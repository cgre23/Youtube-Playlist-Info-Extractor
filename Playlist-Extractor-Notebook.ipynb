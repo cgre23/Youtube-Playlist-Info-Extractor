{
 "cells": [
  {
   "cell_type": "markdown",
   "id": "b26dc52d-bfe2-4148-a726-88b9d2c21125",
   "metadata": {},
   "source": [
    "## Pull All Youtube Videos from a Playlist\n",
    "#### @author: christiangrech"
   ]
  },
  {
   "cell_type": "code",
   "execution_count": 1,
   "id": "6c462bd6-7b73-47d0-b422-98c213499971",
   "metadata": {},
   "outputs": [],
   "source": [
    "from googleapiclient.discovery import build\n",
    "from googleapiclient.errors import HttpError\n",
    "from oauth2client.tools import argparser\n",
    "import json\n",
    "import urllib\n",
    "import isodate\n",
    "import datetime\n",
    "import pandas as pd\n",
    "\n",
    "keys_file = open(\"key.txt\")\n",
    "lines = keys_file.readlines()\n",
    "\n",
    "\n",
    "DEVELOPER_KEY = lines[0].rstrip()\n",
    "YOUTUBE_API_SERVICE_NAME = \"youtube\"\n",
    "YOUTUBE_API_VERSION = \"v3\""
   ]
  },
  {
   "cell_type": "code",
   "execution_count": 35,
   "id": "ebde437e-85e5-465a-ae72-1180d1283bec",
   "metadata": {},
   "outputs": [],
   "source": [
    "PLAYLIST_ID = \"\" # \n",
    "PLAYLIST_ID = \"PLeHhFcoEgrPQK8gMRuAeb89QJaChrbcHy\" # \n",
    "#PLAYLIST_ID = \"PLqTUReV531VKyTlTkpH8j0kCE5kUXtjU0\" # lokalitajiet meetings\n",
    "#PLAYLIST_ID = \"PLqTUReV531VIczs4C5BZs88gGPSsxwLS4\" # fearne\n",
    "#PLAYLIST_ID = \"PLbHxpLLyeKjcltiAHW5GZjLJEN-eoZquR\" # gvern li jisma\n",
    "#PLAYLIST_ID = \"PL_vqWgb-Yi0LRKsN2dJbVL4MCN_BFqpqk\" # science webinars ignore 3\n",
    "#PLAYLIST_ID = \"PL_vqWgb-Yi0L3rYSlS9l2keJOc9koC1To\" # science\n",
    "#PLAYLIST_ID = \"PL_vqWgb-Yi0IqpOKdp_etPTJ0iScvtkY_\" # gadgets esplorea\n",
    "#PLAYLIST_ID = \"PL_vqWgb-Yi0KBG3CzFN2vCeWuLJtRTXGg\" # gina science\n",
    "#PLAYLIST_ID = \"PLDIRna9uK3gWK26_EkOvL9LxsRzfhzB4-\" # triq taghna education\n",
    "#PLAYLIST_ID = \"PLDIRna9uK3gWXc6vgMqAKEh9KUW1j8dKw\" # ekudjar education\n",
    "#PLAYLIST_ID = \"PLDIRna9uK3gU7bEMWVlg2Q4JMZeXcyKVO\" # bbq league\n",
    "#PLAYLIST_ID = \"PLn5NJFQ-jcV09B6_hS0Gc4IEgPQzKCXOG\" # education\n",
    "#PLAYLIST_ID = \"PLn5NJFQ-jcV3B0wYdZCKsT68t-HqjWHXX\" # education\n",
    "#PLAYLIST_ID = \"PLn5NJFQ-jcV3LvhShk0ZwW3wOGVSzRLay\" # education\n",
    "#PLAYLIST_ID = \"PLchAhemgM-fm_3Mpf9_yha0D9gu_EL6-j\" # illum ma steph\n",
    "#PLAYLIST_ID = \"PL-ee8SSNXhJhL1_67L2CfHi3MlvPuQ7pR\" # personaggi\n",
    "#PLAYLIST_ID = \"PLedzF-qwWGve9f8CRZuY2bat-tqlbBuDF\" # hospice\n",
    "#PLAYLIST_ID = \"PLwpLuTweIvtl7dLfuL7m6xUlZ7K3rkF4-\" # water agency\n",
    "\n",
    "#PLAYLIST_ID = \"PLqKghUN-biUsz4MhMve2sWkHgaQjwKJHg\" # ymca\n",
    "#PLAYLIST_ID = \"PLqKghUN-biUv7ZRGMDiQDKy5KWCbn43El\" # ymca\n",
    "\n",
    "#PLAYLIST_ID = \"PLqKghUN-biUvhfNTmxjxWdzPLv6i6O79p\" # ymca\n",
    "\n",
    "#PLAYLIST_ID = \"PLzrpE0iRHx_od4bsbPx7GHZUMZINtlTlB\" # live events\n",
    "#PLAYLIST_ID = \"PLbibS98gdzTjsxKLfy3eSi-VCsBUTqBAv\" # Xtra\n",
    "#PLAYLIST_ID = \"PLbibS98gdzTgSF1VR4Aobf0DM_QZZfzjD\" # Xtra 2021\n",
    "#PLAYLIST_ID = \"PLuZB25kuU2GHNaqVzO_31IbYU20WcZQzG\" # edward vlogs\n",
    "#PLAYLIST_ID = \"PLzrpE0iRHx_rzznd0m_IBYjB0cYDV3BWa\" # malti pur\n",
    "#PLAYLIST_ID = \"PLC4PPe7hpY6aJdMD3UDcYJz52vFzlcLXB\" #educ \n",
    "\n",
    "#PLAYLIST_ID = \"PL0N1rjXcbqbq9kYl0MdaVaUBP0q1SBOdt\" # santa monika\n",
    "#PLAYLIST_ID = \"PL0N1rjXcbqboOpLh-Pae8BbnodE5mifxp\" # comedy\n",
    "#PLAYLIST_ID = \"PL5YTElVBLOyhRdPqTgPwvGj0qmoJcYjiN\" # revved\n",
    "#PLAYLIST_ID = \"PL5vr18QrM_e6OR8XQHU_6s_mKSI84Y7Y9\" # MEA education\n",
    "#PLAYLIST_ID = \"PLBul04hJcpcI8LtFYiBxkTqDVeEb3Ygbl\" # politics\n",
    "#PLAYLIST_ID = \"PLI0_rlU15IebpNgVOzd0BM2pWjPsHS-tS\" # education\n",
    "#PLAYLIST_ID = \"PLI0_rlU15IeYUWUnVs44kUy88a01wLfi_\" # education\n",
    "#PLAYLIST_ID = \"PLI0_rlU15Ieaubt9skhNK9uFvNZsrcnej\" # politics\n",
    "#PLAYLIST_ID = \"PLI0_rlU15IebO9PbHCIU0UX7-67INqEav\" # politics\n",
    "#PLAYLIST_ID = \"PLI0_rlU15IeZIOHkY9VXji-WDZUCL8CyF\" # marittimu\n",
    "\n",
    "#PLAYLIST_ID = \"PLl9rwUAyPo1UnNRDJ_GiiYtl6sPWjMYhR\" # Whats for dinner, skip first\n",
    "#ACELINE\n",
    "\n",
    "#PLAYLIST_ID = \"PLl9rwUAyPo1V7rzNdlLwMU_beVSAQZu76\" # mil palazz\n",
    "\n"
   ]
  },
  {
   "cell_type": "code",
   "execution_count": 36,
   "id": "e909be83-11f2-43e0-a7d5-f4adc51fe320",
   "metadata": {},
   "outputs": [
    {
     "name": "stdout",
     "output_type": "stream",
     "text": [
      "PLeHhFcoEgrPQK8gMRuAeb89QJaChrbcHy\n"
     ]
    }
   ],
   "source": [
    "print(PLAYLIST_ID)"
   ]
  },
  {
   "cell_type": "code",
   "execution_count": 37,
   "id": "a52fab4a-e491-491c-a9ac-250bcd5e06b2",
   "metadata": {},
   "outputs": [],
   "source": [
    "def fetch_all_youtube_videos(playlistId):\n",
    "    \"\"\"\n",
    "    Fetches a playlist of videos from youtube\n",
    "    We splice the results together in no particular order\n",
    "\n",
    "    Parameters:\n",
    "        parm1 - (string) playlistId\n",
    "    Returns:\n",
    "        playListItem Dict\n",
    "    \"\"\"\n",
    "    youtube = build(YOUTUBE_API_SERVICE_NAME,\n",
    "                    YOUTUBE_API_VERSION,\n",
    "                    developerKey=DEVELOPER_KEY)\n",
    "    res = youtube.playlistItems().list(\n",
    "    part=\"contentDetails\",\n",
    "    playlistId=playlistId,\n",
    "    maxResults=\"50\"\n",
    "    ).execute()\n",
    "\n",
    "    nextPageToken = res.get('nextPageToken')\n",
    "    while ('nextPageToken' in res):\n",
    "        nextPage = youtube.playlistItems().list(\n",
    "        part=\"contentDetails\",\n",
    "        playlistId=playlistId,\n",
    "        maxResults=\"50\",\n",
    "        pageToken=nextPageToken\n",
    "        ).execute()\n",
    "        res['items'] = res['items'] + nextPage['items']\n",
    "\n",
    "        if 'nextPageToken' not in nextPage:\n",
    "            res.pop('nextPageToken', None)\n",
    "        else:\n",
    "            nextPageToken = nextPage['nextPageToken']\n",
    "\n",
    "    return res"
   ]
  },
  {
   "cell_type": "code",
   "execution_count": 38,
   "id": "776825c2-cc00-4a41-99aa-b3f3c2042421",
   "metadata": {},
   "outputs": [],
   "source": [
    "if __name__ == '__main__':\n",
    "    \n",
    "  # comedy central playlist, has 332 video\n",
    "  # https://www.youtube.com/watch?v=tJDLdxYKh3k&list=PLD7nPL1U-R5rDpeH95XsK0qwJHLTS3tNT\n",
    "    info = {}\n",
    "    info['links'] = []\n",
    "    info['duration'] = []\n",
    "    duration = 0\n",
    "    total_dur = datetime.timedelta(0)\n",
    "    videos = fetch_all_youtube_videos(PLAYLIST_ID)\n",
    "    for video in videos['items']:\n",
    "        video_id = video['contentDetails']['videoId']\n",
    "        url = f'https://www.youtube.com/watch?v={video_id}'\n",
    "        search_url = f'https://www.googleapis.com/youtube/v3/videos?id={video_id}&key={DEVELOPER_KEY}&part=contentDetails'\n",
    "        req = urllib.request.Request(search_url)\n",
    "        response = urllib.request.urlopen(req).read().decode('utf-8')\n",
    "        data = json.loads(response)\n",
    "        all_data = data['items']\n",
    "        info['links'].append(url)\n",
    "        dur= all_data[0]['contentDetails']['duration']\n",
    "        duration = isodate.parse_duration(dur)\n",
    "        total_dur = total_dur + duration\n",
    "        info['duration'].append(str(duration))\n",
    "    \n"
   ]
  },
  {
   "cell_type": "code",
   "execution_count": 39,
   "id": "0363adc0-3ddc-47a6-a7d6-a7e34a5afd2d",
   "metadata": {},
   "outputs": [
    {
     "data": {
      "text/html": [
       "<div>\n",
       "<style scoped>\n",
       "    .dataframe tbody tr th:only-of-type {\n",
       "        vertical-align: middle;\n",
       "    }\n",
       "\n",
       "    .dataframe tbody tr th {\n",
       "        vertical-align: top;\n",
       "    }\n",
       "\n",
       "    .dataframe thead th {\n",
       "        text-align: right;\n",
       "    }\n",
       "</style>\n",
       "<table border=\"1\" class=\"dataframe\">\n",
       "  <thead>\n",
       "    <tr style=\"text-align: right;\">\n",
       "      <th></th>\n",
       "      <th>links</th>\n",
       "      <th>duration</th>\n",
       "    </tr>\n",
       "  </thead>\n",
       "  <tbody>\n",
       "    <tr>\n",
       "      <th>0</th>\n",
       "      <td>https://www.youtube.com/watch?v=lYEboK2QZgQ</td>\n",
       "      <td>0:41:13</td>\n",
       "    </tr>\n",
       "    <tr>\n",
       "      <th>1</th>\n",
       "      <td>https://www.youtube.com/watch?v=2IHsR1itnDg</td>\n",
       "      <td>0:24:20</td>\n",
       "    </tr>\n",
       "    <tr>\n",
       "      <th>2</th>\n",
       "      <td>https://www.youtube.com/watch?v=IaPHm1neDts</td>\n",
       "      <td>1:01:07</td>\n",
       "    </tr>\n",
       "    <tr>\n",
       "      <th>3</th>\n",
       "      <td>https://www.youtube.com/watch?v=xjTZG4igXX8</td>\n",
       "      <td>0:34:22</td>\n",
       "    </tr>\n",
       "    <tr>\n",
       "      <th>4</th>\n",
       "      <td>https://www.youtube.com/watch?v=1UnHt1Vg0gk</td>\n",
       "      <td>1:01:25</td>\n",
       "    </tr>\n",
       "    <tr>\n",
       "      <th>...</th>\n",
       "      <td>...</td>\n",
       "      <td>...</td>\n",
       "    </tr>\n",
       "    <tr>\n",
       "      <th>100</th>\n",
       "      <td>https://www.youtube.com/watch?v=meQ5yoj6l2E</td>\n",
       "      <td>0:51:11</td>\n",
       "    </tr>\n",
       "    <tr>\n",
       "      <th>101</th>\n",
       "      <td>https://www.youtube.com/watch?v=QJH9VyDopB0</td>\n",
       "      <td>0:37:14</td>\n",
       "    </tr>\n",
       "    <tr>\n",
       "      <th>102</th>\n",
       "      <td>https://www.youtube.com/watch?v=UUSTdtmbPuU</td>\n",
       "      <td>0:40:10</td>\n",
       "    </tr>\n",
       "    <tr>\n",
       "      <th>103</th>\n",
       "      <td>https://www.youtube.com/watch?v=ggNDHZihPyk</td>\n",
       "      <td>0:47:15</td>\n",
       "    </tr>\n",
       "    <tr>\n",
       "      <th>104</th>\n",
       "      <td>https://www.youtube.com/watch?v=NW_wNgN56SA</td>\n",
       "      <td>0:55:47</td>\n",
       "    </tr>\n",
       "  </tbody>\n",
       "</table>\n",
       "<p>105 rows × 2 columns</p>\n",
       "</div>"
      ],
      "text/plain": [
       "                                           links duration\n",
       "0    https://www.youtube.com/watch?v=lYEboK2QZgQ  0:41:13\n",
       "1    https://www.youtube.com/watch?v=2IHsR1itnDg  0:24:20\n",
       "2    https://www.youtube.com/watch?v=IaPHm1neDts  1:01:07\n",
       "3    https://www.youtube.com/watch?v=xjTZG4igXX8  0:34:22\n",
       "4    https://www.youtube.com/watch?v=1UnHt1Vg0gk  1:01:25\n",
       "..                                           ...      ...\n",
       "100  https://www.youtube.com/watch?v=meQ5yoj6l2E  0:51:11\n",
       "101  https://www.youtube.com/watch?v=QJH9VyDopB0  0:37:14\n",
       "102  https://www.youtube.com/watch?v=UUSTdtmbPuU  0:40:10\n",
       "103  https://www.youtube.com/watch?v=ggNDHZihPyk  0:47:15\n",
       "104  https://www.youtube.com/watch?v=NW_wNgN56SA  0:55:47\n",
       "\n",
       "[105 rows x 2 columns]"
      ]
     },
     "execution_count": 39,
     "metadata": {},
     "output_type": "execute_result"
    }
   ],
   "source": [
    "df = pd.DataFrame(data=info)\n",
    "df"
   ]
  },
  {
   "cell_type": "code",
   "execution_count": 40,
   "id": "5b11cc93-582c-43a4-868f-ca14c21f5e5d",
   "metadata": {},
   "outputs": [],
   "source": [
    "df.to_csv('/Users/christiangrech/Documents/GitHub/Youtube-Playlist-Info-Extractor/dict1.csv', index=False)"
   ]
  },
  {
   "cell_type": "code",
   "execution_count": 41,
   "id": "e89158e4-5ff8-4835-ab9d-4aaaf5256cd6",
   "metadata": {},
   "outputs": [
    {
     "name": "stdout",
     "output_type": "stream",
     "text": [
      "3 days, 16:41:06\n"
     ]
    }
   ],
   "source": [
    "print(total_dur)"
   ]
  },
  {
   "cell_type": "markdown",
   "id": "b7f8f00b-4a49-4a06-b797-e9b46356243b",
   "metadata": {},
   "source": [
    "17:09:06\n",
    "6:30:45\n",
    "1 day, 0:35:35\n",
    "7:05:35\n",
    "7:53:53\n",
    "5:12:35\n",
    "2:17:15\n",
    "2:59:38\n",
    "16:12:20\n",
    "11:40:25"
   ]
  },
  {
   "cell_type": "code",
   "execution_count": 6,
   "id": "7604e3f8-6425-4d33-b3f4-cc5a84c7be45",
   "metadata": {},
   "outputs": [
    {
     "data": {
      "text/plain": [
       "{'links': ['https://www.youtube.com/watch?v=VIabEq_zTZ4',\n",
       "  'https://www.youtube.com/watch?v=C0AECQKCWck',\n",
       "  'https://www.youtube.com/watch?v=kVpkRY6J26c',\n",
       "  'https://www.youtube.com/watch?v=zwgDg8CWgNo',\n",
       "  'https://www.youtube.com/watch?v=A09tWLUPQaQ',\n",
       "  'https://www.youtube.com/watch?v=YJmb1JXTxM0',\n",
       "  'https://www.youtube.com/watch?v=D2on1be-fVI',\n",
       "  'https://www.youtube.com/watch?v=YgfwLKHR9IE'],\n",
       " 'duration': ['0:25:05',\n",
       "  '0:36:55',\n",
       "  '0:53:43',\n",
       "  '0:53:05',\n",
       "  '0:14:34',\n",
       "  '1:00:37',\n",
       "  '0:37:06']}"
      ]
     },
     "execution_count": 6,
     "metadata": {},
     "output_type": "execute_result"
    }
   ],
   "source": [
    "info"
   ]
  },
  {
   "cell_type": "code",
   "execution_count": 203,
   "id": "75015d95-28e9-4caf-ac1c-7fe515258ac8",
   "metadata": {},
   "outputs": [],
   "source": [
    "#PLAYLIST_ID = \"PLKTZIA5MRAocmtEQep08g44sYJ_58u7j1\" # Rallies politika\n",
    "#PLAYLIST_ID = \"PLZGlYv8NpNKQDngcd6w6n1_vpsU5BFBKL\" # cartoons\n",
    "#PLAYLIST_ID = \"PL-ee8SSNXhJhpLTBjvugTNl2o99Zqyjxq\" # Prime time\n",
    "#PLAYLIST_ID = \"PLzrpE0iRHx_qc6TCuBqW9JkJZH9q-uk8r\" # Natura doc\n",
    "#PLAYLIST_ID = \"PL-ee8SSNXhJhn4CZphkPQY0D_rliJ5QHI\"  # first four\n"
   ]
  },
  {
   "cell_type": "code",
   "execution_count": 202,
   "id": "55155413-c0d6-429a-b5a7-9269a5e8a973",
   "metadata": {},
   "outputs": [],
   "source": [
    "#PLAYLIST_ID = \"PLKTZIA5MRAoc70n1WDdQNJQ85xdTPKZyO\" # politika\n",
    "#PLAYLIST_ID = \"PLZGlYv8NpNKT9P3xraGf0_NuWgh92u0pE\"  # stejjer\n",
    "#PLAYLIST_ID = \"PLZGlYv8NpNKTwXWCJ3wjsgtd-r0yj8PeK\" # rakkonti\n",
    "#PLAYLIST_ID = \"PLZGlYv8NpNKSdB6buG7wWbzptdTU5plzT\" # stejjer 4 sena\n",
    "#PLAYLIST_ID = \"PLZGlYv8NpNKRKIzdrHuocVMeZlFSOycP0\" # stejjer 3 sena\n",
    "#PLAYLIST_ID = \"PLZGlYv8NpNKSjSdvQxNUeoPrkHcRAfWx5\" # stejjer 2 sena\n",
    "#PLAYLIST_ID = \"PLZGlYv8NpNKT9P3xraGf0_NuWgh92u0pE\" # stejjer 1 sena\n",
    "\n",
    "#PLAYLIST_ID = \"PLZGlYv8NpNKSRbqwdo3iffmjfIrOE9M6j\" # stejjer 0 sena\n",
    "#PLAYLIST_ID = \"PLZGlYv8NpNKQO9OtCRPKO-6Xowzk6P1vU\" # stejjer \n",
    "\n",
    "#PLAYLIST_ID = \"PLqAYx-Of932EVMyd-yvA-19IEJ5xL4Nii\" # dokumentarju\n",
    "#PLAYLIST_ID = \"PLqAYx-Of932GQjh7b7y9ztWosXVqRi_GR\" # tahdidiet malti\n",
    "#PLAYLIST_ID = \"PLqAYx-Of932GPomSmP_Hlest9kL9IqDFt\" # malti education\n",
    "#PLAYLIST_ID = \"PLrUsKbm79xaaQwCpPJiITaKEbsjtvP4TA\" # news politics\n",
    "#PLAYLIST_ID = \"PL-LaAFHEgQQ1B0AAlOM1dt442taZpo8zE\" #  literature lectures\n",
    "#PLAYLIST_ID = \"PL-LaAFHEgQQ3aDt7S6vyTYiSNMgflOels\" # book interviews with authors\n",
    "#PLAYLIST_ID = \"PL-LaAFHEgQQ25exso1wAKgRHJtS_24BYt\" # book reviews\n",
    "#PLAYLIST_ID = \"PL-LaAFHEgQQ2MnLa1WJmwvHVgJB7t3OtK\" # book reviews 2\n",
    "#PLAYLIST_ID = \"PLnDio5-ZtQYSbNHWkelTDAwJdXq9XiuwC\" # comedy\n",
    "#PLAYLIST_ID = \"PLnDio5-ZtQYTwLqWv8w79mpQH_MP3W91d\" # entertainment\n",
    "#PLAYLIST_ID = \"PLnDio5-ZtQYQiEq0Rhb0mA722TNYWgYZ7\" # comdey\n",
    "#PLAYLIST_ID = \"PLoNiP6uCOXpCZkWmA0AYkUgw23ydp_MwV\" # comedy\n",
    "#PLAYLIST_ID = \"PLXPcBlxlXrLmvpo1ycBw6hEIrANafn437\" # comedy\n",
    "#PLAYLIST_ID = \"PLcxdoyejXuPS2eEO5-0J-l43dsZUcsqq0\" # entertainemnt\n"
   ]
  },
  {
   "cell_type": "code",
   "execution_count": null,
   "id": "0f0cc0f6-0e33-4544-ac54-ddd4cba32c80",
   "metadata": {},
   "outputs": [],
   "source": []
  }
 ],
 "metadata": {
  "kernelspec": {
   "display_name": "Python 3",
   "language": "python",
   "name": "python3"
  },
  "language_info": {
   "codemirror_mode": {
    "name": "ipython",
    "version": 3
   },
   "file_extension": ".py",
   "mimetype": "text/x-python",
   "name": "python",
   "nbconvert_exporter": "python",
   "pygments_lexer": "ipython3",
   "version": "3.8.5"
  }
 },
 "nbformat": 4,
 "nbformat_minor": 5
}
