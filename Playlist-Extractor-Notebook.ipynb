{
 "cells": [
  {
   "cell_type": "markdown",
   "id": "b26dc52d-bfe2-4148-a726-88b9d2c21125",
   "metadata": {},
   "source": [
    "## Pull All Youtube Videos from a Playlist\n",
    "#### @author: christiangrech"
   ]
  },
  {
   "cell_type": "code",
   "execution_count": 14,
   "id": "6c462bd6-7b73-47d0-b422-98c213499971",
   "metadata": {},
   "outputs": [],
   "source": [
    "from googleapiclient.discovery import build\n",
    "from googleapiclient.errors import HttpError\n",
    "from oauth2client.tools import argparser\n",
    "import json\n",
    "import urllib\n",
    "import isodate\n",
    "import datetime\n",
    "import pandas as pd\n",
    "\n",
    "keys_file = open(\"key.txt\")\n",
    "lines = keys_file.readlines()\n",
    "\n",
    "\n",
    "DEVELOPER_KEY = lines[0].rstrip()\n",
    "YOUTUBE_API_SERVICE_NAME = \"youtube\"\n",
    "YOUTUBE_API_VERSION = \"v3\""
   ]
  },
  {
   "cell_type": "code",
   "execution_count": null,
   "id": "55155413-c0d6-429a-b5a7-9269a5e8a973",
   "metadata": {},
   "outputs": [],
   "source": [
    "PLAYLIST_ID = \"PL-ee8SSNXhJhpLTBjvugTNl2o99Zqyjxq\" # Prime time\n",
    "PLAYLIST_ID = \"PL-ee8SSNXhJhn4CZphkPQY0D_rliJ5QHI\"  # first four\n",
    "PLAYLIST_ID = \"PLzrpE0iRHx_qc6TCuBqW9JkJZH9q-uk8r\" # Natura doc\n",
    "PLAYLIST_ID = \"PLKTZIA5MRAocmtEQep08g44sYJ_58u7j1\" # Rallies politika\n",
    "PLAYLIST_ID = \"PLKTZIA5MRAoc70n1WDdQNJQ85xdTPKZyO\" # politika\n",
    "PLAYLIST_ID = \"PLZGlYv8NpNKT9P3xraGf0_NuWgh92u0pE\"  # stejjer\n",
    "PLAYLIST_ID = \"PLZGlYv8NpNKQDngcd6w6n1_vpsU5BFBKL\" # cartoons\n",
    "PLAYLIST_ID = \"PLZGlYv8NpNKTwXWCJ3wjsgtd-r0yj8PeK\" # rakkonti\n",
    "PLAYLIST_ID = \"PLZGlYv8NpNKSdB6buG7wWbzptdTU5plzT\" # stejjer 4 sena\n",
    "PLAYLIST_ID = \"PLZGlYv8NpNKRKIzdrHuocVMeZlFSOycP0\" # stejjer 3 sena\n",
    "PLAYLIST_ID = \"PLZGlYv8NpNKSjSdvQxNUeoPrkHcRAfWx5\" # stejjer 2 sena\n",
    "PLAYLIST_ID = \"PLZGlYv8NpNKT9P3xraGf0_NuWgh92u0pE\" # stejjer 1 sena\n",
    "\n",
    "PLAYLIST_ID = \"PLZGlYv8NpNKSRbqwdo3iffmjfIrOE9M6j\" # stejjer 0 sena\n",
    "PLAYLIST_ID = \"PLZGlYv8NpNKQO9OtCRPKO-6Xowzk6P1vU\" # stejjer \n"
   ]
  },
  {
   "cell_type": "code",
   "execution_count": 15,
   "id": "a52fab4a-e491-491c-a9ac-250bcd5e06b2",
   "metadata": {},
   "outputs": [],
   "source": [
    "def fetch_all_youtube_videos(playlistId):\n",
    "    \"\"\"\n",
    "    Fetches a playlist of videos from youtube\n",
    "    We splice the results together in no particular order\n",
    "\n",
    "    Parameters:\n",
    "        parm1 - (string) playlistId\n",
    "    Returns:\n",
    "        playListItem Dict\n",
    "    \"\"\"\n",
    "    youtube = build(YOUTUBE_API_SERVICE_NAME,\n",
    "                    YOUTUBE_API_VERSION,\n",
    "                    developerKey=DEVELOPER_KEY)\n",
    "    res = youtube.playlistItems().list(\n",
    "    part=\"contentDetails\",\n",
    "    playlistId=playlistId,\n",
    "    maxResults=\"50\"\n",
    "    ).execute()\n",
    "\n",
    "    nextPageToken = res.get('nextPageToken')\n",
    "    while ('nextPageToken' in res):\n",
    "        nextPage = youtube.playlistItems().list(\n",
    "        part=\"contentDetails\",\n",
    "        playlistId=playlistId,\n",
    "        maxResults=\"50\",\n",
    "        pageToken=nextPageToken\n",
    "        ).execute()\n",
    "        res['items'] = res['items'] + nextPage['items']\n",
    "\n",
    "        if 'nextPageToken' not in nextPage:\n",
    "            res.pop('nextPageToken', None)\n",
    "        else:\n",
    "            nextPageToken = nextPage['nextPageToken']\n",
    "\n",
    "    return res"
   ]
  },
  {
   "cell_type": "code",
   "execution_count": 16,
   "id": "776825c2-cc00-4a41-99aa-b3f3c2042421",
   "metadata": {},
   "outputs": [],
   "source": [
    "if __name__ == '__main__':\n",
    "    \n",
    "  # comedy central playlist, has 332 video\n",
    "  # https://www.youtube.com/watch?v=tJDLdxYKh3k&list=PLD7nPL1U-R5rDpeH95XsK0qwJHLTS3tNT\n",
    "    info = {}\n",
    "    info['links'] = []\n",
    "    info['duration'] = []\n",
    "    total_dur = datetime.timedelta(0)\n",
    "    videos = fetch_all_youtube_videos(PLAYLIST_ID)\n",
    "    for video in videos['items']:\n",
    "        video_id = video['contentDetails']['videoId']\n",
    "        url = f'https://www.youtube.com/watch?v={video_id}'\n",
    "        search_url = f'https://www.googleapis.com/youtube/v3/videos?id={video_id}&key={DEVELOPER_KEY}&part=contentDetails'\n",
    "        req = urllib.request.Request(search_url)\n",
    "        response = urllib.request.urlopen(req).read().decode('utf-8')\n",
    "        data = json.loads(response)\n",
    "        all_data = data['items']\n",
    "        info['links'].append(url)\n",
    "        dur= all_data[0]['contentDetails']['duration']\n",
    "        duration = isodate.parse_duration(dur)\n",
    "        total_dur = total_dur + duration\n",
    "        info['duration'].append(str(duration))\n",
    "    \n"
   ]
  },
  {
   "cell_type": "code",
   "execution_count": 17,
   "id": "0363adc0-3ddc-47a6-a7d6-a7e34a5afd2d",
   "metadata": {},
   "outputs": [
    {
     "data": {
      "text/html": [
       "<div>\n",
       "<style scoped>\n",
       "    .dataframe tbody tr th:only-of-type {\n",
       "        vertical-align: middle;\n",
       "    }\n",
       "\n",
       "    .dataframe tbody tr th {\n",
       "        vertical-align: top;\n",
       "    }\n",
       "\n",
       "    .dataframe thead th {\n",
       "        text-align: right;\n",
       "    }\n",
       "</style>\n",
       "<table border=\"1\" class=\"dataframe\">\n",
       "  <thead>\n",
       "    <tr style=\"text-align: right;\">\n",
       "      <th></th>\n",
       "      <th>links</th>\n",
       "      <th>duration</th>\n",
       "    </tr>\n",
       "  </thead>\n",
       "  <tbody>\n",
       "    <tr>\n",
       "      <th>0</th>\n",
       "      <td>https://www.youtube.com/watch?v=v_8bs0zuLS8</td>\n",
       "      <td>0:16:11</td>\n",
       "    </tr>\n",
       "    <tr>\n",
       "      <th>1</th>\n",
       "      <td>https://www.youtube.com/watch?v=7-RWj4KTI4c</td>\n",
       "      <td>0:11:24</td>\n",
       "    </tr>\n",
       "    <tr>\n",
       "      <th>2</th>\n",
       "      <td>https://www.youtube.com/watch?v=HFKYH3iUtq0</td>\n",
       "      <td>0:13:13</td>\n",
       "    </tr>\n",
       "    <tr>\n",
       "      <th>3</th>\n",
       "      <td>https://www.youtube.com/watch?v=xLM8vqlINp0</td>\n",
       "      <td>0:14:45</td>\n",
       "    </tr>\n",
       "    <tr>\n",
       "      <th>4</th>\n",
       "      <td>https://www.youtube.com/watch?v=XwDFCDc2d-U</td>\n",
       "      <td>0:14:07</td>\n",
       "    </tr>\n",
       "    <tr>\n",
       "      <th>...</th>\n",
       "      <td>...</td>\n",
       "      <td>...</td>\n",
       "    </tr>\n",
       "    <tr>\n",
       "      <th>78</th>\n",
       "      <td>https://www.youtube.com/watch?v=p9Hr5OE9TKg</td>\n",
       "      <td>0:16:53</td>\n",
       "    </tr>\n",
       "    <tr>\n",
       "      <th>79</th>\n",
       "      <td>https://www.youtube.com/watch?v=6cNQNzr5LGQ</td>\n",
       "      <td>0:13:31</td>\n",
       "    </tr>\n",
       "    <tr>\n",
       "      <th>80</th>\n",
       "      <td>https://www.youtube.com/watch?v=WVrRvfPC08Y</td>\n",
       "      <td>0:12:14</td>\n",
       "    </tr>\n",
       "    <tr>\n",
       "      <th>81</th>\n",
       "      <td>https://www.youtube.com/watch?v=SiRMtWftlGM</td>\n",
       "      <td>0:15:51</td>\n",
       "    </tr>\n",
       "    <tr>\n",
       "      <th>82</th>\n",
       "      <td>https://www.youtube.com/watch?v=AcTni1RxIOI</td>\n",
       "      <td>0:13:21</td>\n",
       "    </tr>\n",
       "  </tbody>\n",
       "</table>\n",
       "<p>83 rows × 2 columns</p>\n",
       "</div>"
      ],
      "text/plain": [
       "                                          links duration\n",
       "0   https://www.youtube.com/watch?v=v_8bs0zuLS8  0:16:11\n",
       "1   https://www.youtube.com/watch?v=7-RWj4KTI4c  0:11:24\n",
       "2   https://www.youtube.com/watch?v=HFKYH3iUtq0  0:13:13\n",
       "3   https://www.youtube.com/watch?v=xLM8vqlINp0  0:14:45\n",
       "4   https://www.youtube.com/watch?v=XwDFCDc2d-U  0:14:07\n",
       "..                                          ...      ...\n",
       "78  https://www.youtube.com/watch?v=p9Hr5OE9TKg  0:16:53\n",
       "79  https://www.youtube.com/watch?v=6cNQNzr5LGQ  0:13:31\n",
       "80  https://www.youtube.com/watch?v=WVrRvfPC08Y  0:12:14\n",
       "81  https://www.youtube.com/watch?v=SiRMtWftlGM  0:15:51\n",
       "82  https://www.youtube.com/watch?v=AcTni1RxIOI  0:13:21\n",
       "\n",
       "[83 rows x 2 columns]"
      ]
     },
     "execution_count": 17,
     "metadata": {},
     "output_type": "execute_result"
    }
   ],
   "source": [
    "df = pd.DataFrame(data=info)\n",
    "df"
   ]
  },
  {
   "cell_type": "code",
   "execution_count": 19,
   "id": "5b11cc93-582c-43a4-868f-ca14c21f5e5d",
   "metadata": {},
   "outputs": [],
   "source": [
    "df.to_csv('/Users/christiangrech/Documents/GitHub/Youtube-Playlist-Info-Extractor/dict1.csv')"
   ]
  },
  {
   "cell_type": "code",
   "execution_count": 20,
   "id": "e89158e4-5ff8-4835-ab9d-4aaaf5256cd6",
   "metadata": {},
   "outputs": [
    {
     "name": "stdout",
     "output_type": "stream",
     "text": [
      "18:01:31\n"
     ]
    }
   ],
   "source": [
    "print(total_dur)"
   ]
  },
  {
   "cell_type": "code",
   "execution_count": null,
   "id": "ca85320c-369f-4010-8cd1-6d03025e6c11",
   "metadata": {},
   "outputs": [],
   "source": []
  }
 ],
 "metadata": {
  "kernelspec": {
   "display_name": "Python 3",
   "language": "python",
   "name": "python3"
  },
  "language_info": {
   "codemirror_mode": {
    "name": "ipython",
    "version": 3
   },
   "file_extension": ".py",
   "mimetype": "text/x-python",
   "name": "python",
   "nbconvert_exporter": "python",
   "pygments_lexer": "ipython3",
   "version": "3.8.5"
  }
 },
 "nbformat": 4,
 "nbformat_minor": 5
}
